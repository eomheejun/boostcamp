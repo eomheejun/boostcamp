{
  "nbformat": 4,
  "nbformat_minor": 0,
  "metadata": {
    "colab": {
      "name": "Untitled9.ipynb",
      "provenance": [],
      "collapsed_sections": [],
      "machine_shape": "hm"
    },
    "kernelspec": {
      "name": "python3",
      "display_name": "Python 3"
    },
    "language_info": {
      "name": "python"
    },
    "accelerator": "GPU"
  },
  "cells": [
    {
      "cell_type": "code",
      "metadata": {
        "colab": {
          "base_uri": "https://localhost:8080/"
        },
        "id": "BH4hL4cgar6W",
        "outputId": "372d3ea3-4e8e-4f0d-ddf6-e795f32e8cb5"
      },
      "source": [
        "!pip install transformers\n",
        "!pip install datasets"
      ],
      "execution_count": 1,
      "outputs": [
        {
          "output_type": "stream",
          "text": [
            "Successfully installed datasets-1.7.0 fsspec-2021.5.0 xxhash-2.0.2\n"
          ],
          "name": "stdout"
        }
      ]
    },
    {
      "cell_type": "code",
      "metadata": {
        "colab": {
          "base_uri": "https://localhost:8080/"
        },
        "id": "7b7pqzBGbuZA",
        "outputId": "e8605bcc-df33-4164-908b-d8bc1ee9ffa9"
      },
      "source": [
        "!nvidia-smi"
      ],
      "execution_count": 2,
      "outputs": [
        {
          "output_type": "stream",
          "text": [
            "Sat May 29 17:04:19 2021       \n",
            "+-----------------------------------------------------------------------------+\n",
            "| NVIDIA-SMI 465.19.01    Driver Version: 460.32.03    CUDA Version: 11.2     |\n",
            "|-------------------------------+----------------------+----------------------+\n",
            "| GPU  Name        Persistence-M| Bus-Id        Disp.A | Volatile Uncorr. ECC |\n",
            "| Fan  Temp  Perf  Pwr:Usage/Cap|         Memory-Usage | GPU-Util  Compute M. |\n",
            "|                               |                      |               MIG M. |\n",
            "|===============================+======================+======================|\n",
            "|   0  Tesla P100-PCIE...  Off  | 00000000:00:04.0 Off |                    0 |\n",
            "| N/A   33C    P0    26W / 250W |      0MiB / 16280MiB |      0%      Default |\n",
            "|                               |                      |                  N/A |\n",
            "+-------------------------------+----------------------+----------------------+\n",
            "                                                                               \n",
            "+-----------------------------------------------------------------------------+\n",
            "| Processes:                                                                  |\n",
            "|  GPU   GI   CI        PID   Type   Process name                  GPU Memory |\n",
            "|        ID   ID                                                   Usage      |\n",
            "|=============================================================================|\n",
            "|  No running processes found                                                 |\n",
            "+-----------------------------------------------------------------------------+\n"
          ],
          "name": "stdout"
        }
      ]
    },
    {
      "cell_type": "code",
      "metadata": {
        "colab": {
          "base_uri": "https://localhost:8080/"
        },
        "id": "eW5Qam6nCoL1",
        "outputId": "bf013205-e6fe-42dc-b952-0a03859e2c55"
      },
      "source": [
        "from google.colab import drive\n",
        "drive.mount('/content/drive')"
      ],
      "execution_count": 3,
      "outputs": [
        {
          "output_type": "stream",
          "text": [
            "Mounted at /content/drive\n"
          ],
          "name": "stdout"
        }
      ]
    },
    {
      "cell_type": "code",
      "metadata": {
        "id": "3cNDL5fqzL3h"
      },
      "source": [
        "from transformers import BertTokenizer\n",
        "from transformers import BertForSequenceClassification, AdamW, BertConfig\n",
        "from transformers import get_linear_schedule_with_warmup\n",
        "from transformers import AutoTokenizer, AutoModelForSequenceClassification\n",
        "from torch.utils.data import TensorDataset, DataLoader, RandomSampler, SequentialSampler\n",
        "from keras.preprocessing.sequence import pad_sequences\n",
        "from sklearn.model_selection import train_test_split\n",
        "from torch.cuda.amp import GradScaler , autocast"
      ],
      "execution_count": 4,
      "outputs": []
    },
    {
      "cell_type": "code",
      "metadata": {
        "id": "zal2JRRha0a-"
      },
      "source": [
        "import pandas as pd\n",
        "import numpy as np\n",
        "import torch.nn as nn\n",
        "from tqdm import tqdm\n",
        "import torch\n",
        "import datasets\n",
        "import random\n",
        "import time\n",
        "import datetime\n",
        "\n",
        "import sys\n",
        "\n",
        "scaler = GradScaler()\n",
        "device = torch.device('cuda:0' if torch.cuda.is_available() else 'cpu')"
      ],
      "execution_count": 9,
      "outputs": []
    },
    {
      "cell_type": "code",
      "metadata": {
        "id": "QJQbHnahVOUL"
      },
      "source": [
        "torch.cuda.empty_cache()"
      ],
      "execution_count": 15,
      "outputs": []
    },
    {
      "cell_type": "code",
      "metadata": {
        "colab": {
          "base_uri": "https://localhost:8080/"
        },
        "id": "YpkYSIjBUpkG",
        "outputId": "124fe734-f2f5-40dc-b925-8b278b94375d"
      },
      "source": [
        "!unzip '/content/drive/MyDrive/Colab Notebooks/algo/technical-assignment-2021-dev.zip'"
      ],
      "execution_count": 14,
      "outputs": [
        {
          "output_type": "stream",
          "text": [
            "Archive:  /content/drive/MyDrive/Colab Notebooks/algo/technical-assignment-2021-dev.zip\n",
            "  inflating: sample_submission.csv   \n",
            "  inflating: test_data               \n",
            "  inflating: train_data              \n",
            "  inflating: train_label             \n",
            "  inflating: valid_data              \n",
            "  inflating: valid_label             \n"
          ],
          "name": "stdout"
        }
      ]
    },
    {
      "cell_type": "code",
      "metadata": {
        "id": "9L1Dn1Rda2ZM"
      },
      "source": [
        "train_data = open('/content/train_data',mode='r',encoding='utf-8')\n",
        "train_label = open('/content/train_label',mode='r',encoding='utf-8')"
      ],
      "execution_count": 24,
      "outputs": []
    },
    {
      "cell_type": "code",
      "metadata": {
        "id": "9k1wrZssbMMt"
      },
      "source": [
        "train = pd.DataFrame({\"document\":train_data, \"label\":train_label})"
      ],
      "execution_count": 25,
      "outputs": []
    },
    {
      "cell_type": "code",
      "metadata": {
        "id": "eZlx5l9-bgfd"
      },
      "source": [
        "train['document'] = train['document'].apply(lambda x : x.replace('\\n',''))\n",
        "train['label'] = train['label'].apply(lambda x : x.replace('\\n',''))\n",
        "train['label'] = train['label'].apply(lambda x : int(x))\n",
        "train['label'] = train['label'].apply(lambda x : x-1)\n",
        "train['document'] = train['document'].str.replace(\"[^ㄱ-ㅎㅏ-ㅣ가-힣 ]\",\"\")"
      ],
      "execution_count": 26,
      "outputs": []
    },
    {
      "cell_type": "code",
      "metadata": {
        "id": "iSJNR6k5bMKU"
      },
      "source": [
        "##900만개의 문장을 토크나이징해서 학습하기 불가능 => 30만개의 데이터로 학습\n",
        "\n",
        "train1 = train.iloc[:100000]\n",
        "train2 = train.iloc[100000:200000]\n",
        "train3 = train.iloc[200000:300000]"
      ],
      "execution_count": 27,
      "outputs": []
    },
    {
      "cell_type": "code",
      "metadata": {
        "colab": {
          "base_uri": "https://localhost:8080/",
          "height": 195
        },
        "id": "ZqdWXM3GCJkE",
        "outputId": "0fed7e95-06f5-4913-cff6-6fa369a042a3"
      },
      "source": [
        "train2.head()"
      ],
      "execution_count": 28,
      "outputs": [
        {
          "output_type": "execute_result",
          "data": {
            "text/html": [
              "<div>\n",
              "<style scoped>\n",
              "    .dataframe tbody tr th:only-of-type {\n",
              "        vertical-align: middle;\n",
              "    }\n",
              "\n",
              "    .dataframe tbody tr th {\n",
              "        vertical-align: top;\n",
              "    }\n",
              "\n",
              "    .dataframe thead th {\n",
              "        text-align: right;\n",
              "    }\n",
              "</style>\n",
              "<table border=\"1\" class=\"dataframe\">\n",
              "  <thead>\n",
              "    <tr style=\"text-align: right;\">\n",
              "      <th></th>\n",
              "      <th>document</th>\n",
              "      <th>label</th>\n",
              "    </tr>\n",
              "  </thead>\n",
              "  <tbody>\n",
              "    <tr>\n",
              "      <th>100000</th>\n",
              "      <td>나쁘지 않아요 자 자</td>\n",
              "      <td>5</td>\n",
              "    </tr>\n",
              "    <tr>\n",
              "      <th>100001</th>\n",
              "      <td>예전깨더잼잇는듯마이클베이</td>\n",
              "      <td>4</td>\n",
              "    </tr>\n",
              "    <tr>\n",
              "      <th>100002</th>\n",
              "      <td>기대한 평점 내용 점 평균 전체적 점</td>\n",
              "      <td>7</td>\n",
              "    </tr>\n",
              "    <tr>\n",
              "      <th>100003</th>\n",
              "      <td>뭐지 왜이제와서 리뷰를 남기래 잘기억도 안나는데 쫌 지루했던거 같음</td>\n",
              "      <td>6</td>\n",
              "    </tr>\n",
              "    <tr>\n",
              "      <th>100004</th>\n",
              "      <td>너무 웅장헌 스케일 땜에 현실감이 안난다그리고로봇도 몇번 보니 지겨워</td>\n",
              "      <td>4</td>\n",
              "    </tr>\n",
              "  </tbody>\n",
              "</table>\n",
              "</div>"
            ],
            "text/plain": [
              "                                      document  label\n",
              "100000                             나쁘지 않아요 자 자      5\n",
              "100001                           예전깨더잼잇는듯마이클베이      4\n",
              "100002                    기대한 평점 내용 점 평균 전체적 점      7\n",
              "100003  뭐지 왜이제와서 리뷰를 남기래 잘기억도 안나는데 쫌 지루했던거 같음       6\n",
              "100004  너무 웅장헌 스케일 땜에 현실감이 안난다그리고로봇도 몇번 보니 지겨워      4"
            ]
          },
          "metadata": {
            "tags": []
          },
          "execution_count": 28
        }
      ]
    },
    {
      "cell_type": "code",
      "metadata": {
        "colab": {
          "base_uri": "https://localhost:8080/"
        },
        "id": "ydujoA2hb7hR",
        "outputId": "6add94e5-28a2-44d2-d1e9-77e5028cdf42"
      },
      "source": [
        "print(len(train1))\n",
        "print(len(train2))\n",
        "print(len(train3))"
      ],
      "execution_count": 29,
      "outputs": [
        {
          "output_type": "stream",
          "text": [
            "100000\n",
            "100000\n",
            "100000\n"
          ],
          "name": "stdout"
        }
      ]
    },
    {
      "cell_type": "code",
      "metadata": {
        "colab": {
          "base_uri": "https://localhost:8080/",
          "height": 316
        },
        "id": "oopZhXV3cTzM",
        "outputId": "77f69f6e-c2e8-4383-e5a7-5f1d107a5c34"
      },
      "source": [
        "from matplotlib import pyplot as plt\n",
        "\n",
        "print('학습 문장 최대 길이 :',max(len(l) for l in train1['document']))\n",
        "print('학습 문장의 평균 길이 :',sum(map(len, train['document']))/len(train1['document']))\n",
        "\n",
        "plt.hist([len(s) for s in train1['document']], bins=50)\n",
        "plt.xlabel('length of data')\n",
        "plt.ylabel('number of data')\n",
        "plt.show()"
      ],
      "execution_count": 30,
      "outputs": [
        {
          "output_type": "stream",
          "text": [
            "학습 문장 최대 길이 : 140\n",
            "학습 문장의 평균 길이 : 2727.63569\n"
          ],
          "name": "stdout"
        },
        {
          "output_type": "display_data",
          "data": {
            "image/png": "[encoded data removed]",
            "text/plain": [
              "<Figure size 432x288 with 1 Axes>"
            ]
          },
          "metadata": {
            "tags": [],
            "needs_background": "light"
          }
        }
      ]
    },
    {
      "cell_type": "code",
      "metadata": {
        "colab": {
          "base_uri": "https://localhost:8080/",
          "height": 313
        },
        "id": "OLHzGrbUcFfo",
        "outputId": "e17a0a4b-63fa-4bb4-c3f1-77270a93d3a8"
      },
      "source": [
        "print('학습 문장 최대 길이 :',max(len(l) for l in train2['document']))\n",
        "print('학습 문장의 평균 길이 :',sum(map(len, train2['document']))/len(train2['document']))\n",
        "\n",
        "plt.hist([len(s) for s in train2['document']], bins=50)\n",
        "plt.xlabel('length of data')\n",
        "plt.ylabel('number of data')\n",
        "plt.show()"
      ],
      "execution_count": 31,
      "outputs": [
        {
          "output_type": "stream",
          "text": [
            "학습 문장 최대 길이 : 140\n",
            "학습 문장의 평균 길이 : 34.92555\n"
          ],
          "name": "stdout"
        },
        {
          "output_type": "display_data",
          "data": {
            "image/png": "[encoded data removed]",
            "text/plain": [
              "<Figure size 432x288 with 1 Axes>"
            ]
          },
          "metadata": {
            "tags": [],
            "needs_background": "light"
          }
        }
      ]
    },
    {
      "cell_type": "code",
      "metadata": {
        "colab": {
          "base_uri": "https://localhost:8080/",
          "height": 313
        },
        "id": "Qxsclh_IcF7w",
        "outputId": "a402daa9-f6aa-4308-cffc-4f26c3e9296c"
      },
      "source": [
        "print('학습 문장 최대 길이 :',max(len(l) for l in train3['document']))\n",
        "print('학습 문장의 평균 길이 :',sum(map(len, train3['document']))/len(train3['document']))\n",
        "\n",
        "plt.hist([len(s) for s in train3['document']], bins=50)\n",
        "plt.xlabel('length of data')\n",
        "plt.ylabel('number of data')\n",
        "plt.show()"
      ],
      "execution_count": 32,
      "outputs": [
        {
          "output_type": "stream",
          "text": [
            "학습 문장 최대 길이 : 140\n",
            "학습 문장의 평균 길이 : 37.45469\n"
          ],
          "name": "stdout"
        },
        {
          "output_type": "display_data",
          "data": {
            "image/png": "[encoded data removed]",
            "text/plain": [
              "<Figure size 432x288 with 1 Axes>"
            ]
          },
          "metadata": {
            "tags": [],
            "needs_background": "light"
          }
        }
      ]
    },
    {
      "cell_type": "code",
      "metadata": {
        "id": "_uef268PabaM"
      },
      "source": [
        "document_bert1 = [\"[CLS] \" + str(s) + \" [SEP]\" for s in train1['document']]\n",
        "document_bert2 = [\"[CLS] \" + str(s) + \" [SEP]\" for s in train2['document']]\n",
        "document_bert3 = [\"[CLS] \" + str(s) + \" [SEP]\" for s in train3['document']]"
      ],
      "execution_count": 33,
      "outputs": []
    },
    {
      "cell_type": "code",
      "metadata": {
        "id": "GH1N2EDouCV_"
      },
      "source": [
        "tokenizer = AutoTokenizer.from_pretrained('xlm-roberta-base', do_lower_case=False) \n"
      ],
      "execution_count": 34,
      "outputs": []
    },
    {
      "cell_type": "code",
      "metadata": {
        "id": "6soirKiKabXz"
      },
      "source": [
        "tokenizer = AutoTokenizer.from_pretrained('xlm-roberta-base', do_lower_case=False) \n",
        "tokenized_texts1 = [tokenizer.tokenize(s) for s in document_bert1]\n",
        "tokenized_texts2 = [tokenizer.tokenize(s) for s in document_bert2]\n",
        "tokenized_texts3 = [tokenizer.tokenize(s) for s in document_bert3]"
      ],
      "execution_count": 35,
      "outputs": []
    },
    {
      "cell_type": "code",
      "metadata": {
        "id": "sAaiqycwbtP7"
      },
      "source": [
        "MAX_LEN = 140\n",
        "input_ids1 = [tokenizer.convert_tokens_to_ids(x) for x in tokenized_texts1]\n",
        "input_ids1 = pad_sequences(input_ids1, maxlen=MAX_LEN, dtype='long', truncating='post', padding='post')\n",
        "\n",
        "input_ids2 = [tokenizer.convert_tokens_to_ids(x) for x in tokenized_texts2]\n",
        "input_ids2 = pad_sequences(input_ids2, maxlen=MAX_LEN, dtype='long', truncating='post', padding='post')\n",
        "\n",
        "input_ids3 = [tokenizer.convert_tokens_to_ids(x) for x in tokenized_texts3]\n",
        "input_ids3 = pad_sequences(input_ids3, maxlen=MAX_LEN, dtype='long', truncating='post', padding='post')"
      ],
      "execution_count": 36,
      "outputs": []
    },
    {
      "cell_type": "code",
      "metadata": {
        "id": "ZLtTDtyObtNr"
      },
      "source": [
        "attention_masks1 = []\n",
        "\n",
        "for seq in input_ids1:\n",
        "    seq_mask = [float(i>0) for i in seq]\n",
        "    attention_masks1.append(seq_mask)\n",
        "    \n",
        "attention_masks2 = []\n",
        "\n",
        "for seq in input_ids2:\n",
        "    seq_mask = [float(i>0) for i in seq]\n",
        "    attention_masks2.append(seq_mask)\n",
        "\n",
        "attention_masks3 = []\n",
        "\n",
        "for seq in input_ids3:\n",
        "    seq_mask = [float(i>0) for i in seq]\n",
        "    attention_masks3.append(seq_mask)    "
      ],
      "execution_count": 37,
      "outputs": []
    },
    {
      "cell_type": "code",
      "metadata": {
        "id": "mcrsBw78btLL"
      },
      "source": [
        "train_inputs1, validation_inputs1, train_labels1, validation_labels1 = train_test_split(input_ids1, train1['label'].values, random_state=42, test_size=0.2)\n",
        "train_masks1, validation_masks1, _, _ = train_test_split(attention_masks1,input_ids1,random_state=42,test_size=0.2)\n",
        "\n",
        "train_inputs2, validation_inputs2, train_labels2, validation_labels2 = train_test_split(input_ids2, train2['label'].values, random_state=42, test_size=0.2)\n",
        "train_masks2, validation_masks2, _, _ = train_test_split(attention_masks2,input_ids2,random_state=42,test_size=0.2)\n",
        "\n",
        "train_inputs3, validation_inputs3, train_labels3, validation_labels3 = train_test_split(input_ids3, train3['label'].values, random_state=42, test_size=0.2)\n",
        "train_masks3, validation_masks3, _, _ = train_test_split(attention_masks3,input_ids3,random_state=42,test_size=0.2)"
      ],
      "execution_count": 38,
      "outputs": []
    },
    {
      "cell_type": "code",
      "metadata": {
        "id": "KWzk-Xz4btI7"
      },
      "source": [
        "train_inputs1 = torch.tensor(train_inputs1)\n",
        "train_labels1 = torch.tensor(train_labels1)\n",
        "train_masks1 = torch.tensor(train_masks1)\n",
        "validation_inputs1 = torch.tensor(validation_inputs1)\n",
        "validation_labels1 = torch.tensor(validation_labels1)\n",
        "validation_masks1 = torch.tensor(validation_masks1)"
      ],
      "execution_count": 39,
      "outputs": []
    },
    {
      "cell_type": "code",
      "metadata": {
        "id": "DsD-Yy5SdEuB"
      },
      "source": [
        "train_inputs2 = torch.tensor(train_inputs2)\n",
        "train_labels2 = torch.tensor(train_labels2)\n",
        "train_masks2 = torch.tensor(train_masks2)\n",
        "validation_inputs2 = torch.tensor(validation_inputs2)\n",
        "validation_labels2 = torch.tensor(validation_labels2)\n",
        "validation_masks2 = torch.tensor(validation_masks2)"
      ],
      "execution_count": 40,
      "outputs": []
    },
    {
      "cell_type": "code",
      "metadata": {
        "id": "7YuuW3mvdFbZ"
      },
      "source": [
        "train_inputs3 = torch.tensor(train_inputs3)\n",
        "train_labels3 = torch.tensor(train_labels3)\n",
        "train_masks3 = torch.tensor(train_masks3)\n",
        "validation_inputs3 = torch.tensor(validation_inputs3)\n",
        "validation_labels3 = torch.tensor(validation_labels3)\n",
        "validation_masks3 = torch.tensor(validation_masks3)"
      ],
      "execution_count": 41,
      "outputs": []
    },
    {
      "cell_type": "code",
      "metadata": {
        "id": "pLAw3B2wbtGi"
      },
      "source": [
        "BATCH_SIZE = 16\n",
        "\n",
        "train_data1 = TensorDataset(train_inputs1, train_masks1, train_labels1)\n",
        "train_sampler1 = RandomSampler(train_data1)\n",
        "train_dataloader1 = DataLoader(train_data1, sampler=train_sampler1, batch_size=BATCH_SIZE)\n",
        "\n",
        "validation_data1 = TensorDataset(validation_inputs1, validation_masks1, validation_labels1)\n",
        "validation_sampler1 = SequentialSampler(validation_data1)\n",
        "validation_dataloader1 = DataLoader(validation_data1, sampler=validation_sampler1, batch_size=BATCH_SIZE)"
      ],
      "execution_count": 42,
      "outputs": []
    },
    {
      "cell_type": "code",
      "metadata": {
        "id": "ngPAri_PdQ6o"
      },
      "source": [
        "train_data2 = TensorDataset(train_inputs2, train_masks2, train_labels2)\n",
        "train_sampler2 = RandomSampler(train_data2)\n",
        "train_dataloader2 = DataLoader(train_data2, sampler=train_sampler2, batch_size=BATCH_SIZE)\n",
        "\n",
        "validation_data2 = TensorDataset(validation_inputs2, validation_masks2, validation_labels2)\n",
        "validation_sampler2 = SequentialSampler(validation_data2)\n",
        "validation_dataloader2 = DataLoader(validation_data2, sampler=validation_sampler2, batch_size=BATCH_SIZE)"
      ],
      "execution_count": 43,
      "outputs": []
    },
    {
      "cell_type": "code",
      "metadata": {
        "id": "wmobL2qKdQ9H"
      },
      "source": [
        "train_data3 = TensorDataset(train_inputs3, train_masks3, train_labels3)\n",
        "train_sampler3 = RandomSampler(train_data3)\n",
        "train_dataloader3 = DataLoader(train_data3, sampler=train_sampler3, batch_size=BATCH_SIZE)\n",
        "\n",
        "validation_data3 = TensorDataset(validation_inputs3, validation_masks3, validation_labels3)\n",
        "validation_sampler3 = SequentialSampler(validation_data3)\n",
        "validation_dataloader3 = DataLoader(validation_data3, sampler=validation_sampler3, batch_size=BATCH_SIZE)"
      ],
      "execution_count": 44,
      "outputs": []
    },
    {
      "cell_type": "code",
      "metadata": {
        "id": "TI3vCx-Gb5R7"
      },
      "source": [
        "model = AutoModelForSequenceClassification.from_pretrained(\"xlm-roberta-large\", num_labels=10)\n",
        "model.to(device)"
      ],
      "execution_count": null,
      "outputs": []
    },
    {
      "cell_type": "code",
      "metadata": {
        "id": "EAwRHVEUbtEE"
      },
      "source": [
        "optimizer = AdamW(model.parameters(),lr = 3e-4,eps = 1e-8)\n",
        "epochs = 2\n",
        "total_steps = len(train_dataloader1) * epochs\n",
        "scheduler = get_linear_schedule_with_warmup(optimizer,num_warmup_steps = total_steps*0.1,num_training_steps = total_steps)"
      ],
      "execution_count": 49,
      "outputs": []
    },
    {
      "cell_type": "code",
      "metadata": {
        "id": "tsyPkd7sb-0k"
      },
      "source": [
        "def flat_accuracy(preds, labels):\n",
        "    pred_flat = np.argmax(preds, axis=1).flatten()\n",
        "    labels_flat = labels.flatten()\n",
        "    return np.sum(pred_flat == labels_flat) / len(labels_flat)\n",
        "\n",
        "# 시간 표시 함수\n",
        "def format_time(elapsed):\n",
        "    # 반올림\n",
        "    elapsed_rounded = int(round((elapsed)))\n",
        "    # hh:mm:ss으로 형태 변경\n",
        "    return str(datetime.timedelta(seconds=elapsed_rounded))"
      ],
      "execution_count": 46,
      "outputs": []
    },
    {
      "cell_type": "code",
      "metadata": {
        "colab": {
          "base_uri": "https://localhost:8080/"
        },
        "id": "Ewk9qMX1dq06",
        "outputId": "2d237a2f-9fde-4691-de2a-2d3196f3cd35"
      },
      "source": [
        "for i in train_dataloader:\n",
        "  a,b,c = i\n",
        "  print(a)\n",
        "  print(len(a))\n",
        "  print(b)\n",
        "  print(len(b))\n",
        "  print(c)\n",
        "  print(len(c))\n",
        "  break"
      ],
      "execution_count": null,
      "outputs": [
        {
          "output_type": "stream",
          "text": [
            "tensor([[   101,   9924,  10622,  ...,      0,      0,      0],\n",
            "        [   101,   9408,   9519,  ...,      0,      0,      0],\n",
            "        [   101,   9519,  33077,  ...,      0,      0,      0],\n",
            "        ...,\n",
            "        [   101,   9004,  32537,  ...,      0,      0,      0],\n",
            "        [   101,    100,    102,  ...,      0,      0,      0],\n",
            "        [   101,   9638, 118624,  ...,      0,      0,      0]])\n",
            "16\n",
            "tensor([[1., 1., 1.,  ..., 0., 0., 0.],\n",
            "        [1., 1., 1.,  ..., 0., 0., 0.],\n",
            "        [1., 1., 1.,  ..., 0., 0., 0.],\n",
            "        ...,\n",
            "        [1., 1., 1.,  ..., 0., 0., 0.],\n",
            "        [1., 1., 1.,  ..., 0., 0., 0.],\n",
            "        [1., 1., 1.,  ..., 0., 0., 0.]])\n",
            "16\n",
            "tensor([9, 8, 9, 9, 7, 9, 7, 9, 7, 0, 0, 9, 9, 9, 7, 9])\n",
            "16\n"
          ],
          "name": "stdout"
        }
      ]
    },
    {
      "cell_type": "code",
      "metadata": {
        "id": "2R7tyVpIb-yH"
      },
      "source": [
        "seed_val = 42\n",
        "random.seed(seed_val)\n",
        "np.random.seed(seed_val)\n",
        "torch.manual_seed(seed_val)\n",
        "torch.cuda.manual_seed_all(seed_val)\n",
        "\n",
        "model.zero_grad()\n",
        "\n",
        "\n",
        "def train(train_dataloader,validation_dataloader):\n",
        "  for epoch_i in range(0, epochs):\n",
        "      \n",
        "      # ========================================\n",
        "      #               Training\n",
        "      # ========================================\n",
        "      \n",
        "      print(\"\")\n",
        "      print('======== Epoch {:} / {:} ========'.format(epoch_i + 1, epochs))\n",
        "      print('Training...')\n",
        "\n",
        "      t0 = time.time()\n",
        "      total_loss = 0\n",
        "      model.train()\n",
        "          \n",
        "      for step, batch in enumerate(train_dataloader):\n",
        "          with autocast():\n",
        "            if step % 500 == 0 and not step == 0:\n",
        "                elapsed = format_time(time.time() - t0)\n",
        "                print('  Batch {:>5,}  of  {:>5,}.    Elapsed: {:}.'.format(step, len(train_dataloader), elapsed))\n",
        "\n",
        "            batch = tuple(t.to(device) for t in batch)\n",
        "            \n",
        "            b_input_ids, b_input_mask, b_labels = batch\n",
        "\n",
        "            outputs = model(b_input_ids, \n",
        "                            #token_type_ids=None, \n",
        "                            attention_mask=b_input_mask, \n",
        "                            labels=b_labels)\n",
        "            \n",
        "            loss = outputs.loss\n",
        "            total_loss += loss\n",
        "            loss.backward()\n",
        "\n",
        "            torch.nn.utils.clip_grad_norm_(model.parameters(), 1.0)\n",
        "\n",
        "            optimizer.step()\n",
        "            scheduler.step()\n",
        "            model.zero_grad()\n",
        "\n",
        "      avg_train_loss = total_loss / len(train_dataloader)            \n",
        "\n",
        "      print(\"\")\n",
        "      print(\"  Average training loss: {0:.2f}\".format(avg_train_loss))\n",
        "      print(\"  Training epcoh took: {:}\".format(format_time(time.time() - t0)))\n",
        "          \n",
        "      # ========================================\n",
        "      #               Validation\n",
        "      # ========================================\n",
        "\n",
        "      print(\"\")\n",
        "      print(\"Running Validation...\")\n",
        "\n",
        "      t0 = time.time()\n",
        "\n",
        "      model.eval()\n",
        "\n",
        "      eval_loss, eval_accuracy = 0, 0\n",
        "      nb_eval_steps, nb_eval_examples = 0, 0\n",
        "\n",
        "      for batch in validation_dataloader:\n",
        "          batch = tuple(t.to(device) for t in batch)\n",
        "          \n",
        "          b_input_ids, b_input_mask, b_labels = batch\n",
        "          \n",
        "          with torch.no_grad():     \n",
        "              outputs = model(b_input_ids, \n",
        "                              #token_type_ids=None, \n",
        "                              attention_mask=b_input_mask)\n",
        "          \n",
        "          logits = outputs.logits\n",
        "\n",
        "          logits = logits.detach().cpu().numpy()\n",
        "          label_ids = b_labels.to('cpu').numpy()\n",
        "          \n",
        "          tmp_eval_accuracy = flat_accuracy(logits, label_ids)\n",
        "          eval_accuracy += tmp_eval_accuracy\n",
        "          nb_eval_steps += 1\n",
        "\n",
        "      print(\"  Accuracy: {0:.2f}\".format(eval_accuracy/nb_eval_steps))\n",
        "      print(\"  Validation took: {:}\".format(format_time(time.time() - t0)))\n",
        "\n",
        "  print(\"\")\n",
        "  print(\"Training complete!\")"
      ],
      "execution_count": 50,
      "outputs": []
    },
    {
      "cell_type": "code",
      "metadata": {
        "colab": {
          "base_uri": "https://localhost:8080/"
        },
        "id": "AD9aPrPAahd6",
        "outputId": "247e110b-4499-47f9-b31f-1697e13308c1"
      },
      "source": [
        "train(train_dataloader1,validation_dataloader1)"
      ],
      "execution_count": null,
      "outputs": [
        {
          "output_type": "stream",
          "text": [
            "\n",
            "======== Epoch 1 / 2 ========\n",
            "Training...\n",
            "  Batch   500  of  5,000.    Elapsed: 0:06:51.\n",
            "  Batch 1,000  of  5,000.    Elapsed: 0:13:42.\n",
            "  Batch 1,500  of  5,000.    Elapsed: 0:20:33.\n",
            "  Batch 2,000  of  5,000.    Elapsed: 0:27:25.\n",
            "  Batch 2,500  of  5,000.    Elapsed: 0:34:17.\n",
            "  Batch 3,000  of  5,000.    Elapsed: 0:41:09.\n",
            "  Batch 3,500  of  5,000.    Elapsed: 0:48:00.\n",
            "  Batch 4,000  of  5,000.    Elapsed: 0:54:52.\n",
            "  Batch 4,500  of  5,000.    Elapsed: 1:01:43.\n",
            "\n",
            "  Average training loss: 1.56\n",
            "  Training epcoh took: 1:08:35\n",
            "\n",
            "Running Validation...\n",
            "  Accuracy: 0.56\n",
            "  Validation took: 0:05:08\n",
            "\n",
            "======== Epoch 2 / 2 ========\n",
            "Training...\n",
            "  Batch   500  of  5,000.    Elapsed: 0:06:52.\n",
            "  Batch 1,000  of  5,000.    Elapsed: 0:13:44.\n",
            "  Batch 1,500  of  5,000.    Elapsed: 0:20:35.\n",
            "  Batch 2,000  of  5,000.    Elapsed: 0:27:27.\n",
            "  Batch 2,500  of  5,000.    Elapsed: 0:34:19.\n",
            "  Batch 3,000  of  5,000.    Elapsed: 0:41:11.\n",
            "  Batch 3,500  of  5,000.    Elapsed: 0:48:02.\n",
            "  Batch 4,000  of  5,000.    Elapsed: 0:54:54.\n",
            "  Batch 4,500  of  5,000.    Elapsed: 1:01:46.\n",
            "\n",
            "  Average training loss: 1.53\n",
            "  Training epcoh took: 1:08:43\n",
            "\n",
            "Running Validation...\n",
            "  Accuracy: 0.56\n",
            "  Validation took: 0:05:08\n",
            "\n",
            "Training complete!\n"
          ],
          "name": "stdout"
        }
      ]
    },
    {
      "cell_type": "code",
      "metadata": {
        "id": "2z1qjyO6fFio"
      },
      "source": [
        "PATH = \"/content/drive/MyDrive/bert_model1.pt\"\n",
        "torch.save(model.state_dict(), PATH)"
      ],
      "execution_count": null,
      "outputs": []
    },
    {
      "cell_type": "code",
      "metadata": {
        "colab": {
          "base_uri": "https://localhost:8080/"
        },
        "id": "jnRdrFqEdrgw",
        "outputId": "c8157723-1001-4228-de96-7796c277e174"
      },
      "source": [
        "train(train_dataloader2,validation_dataloader2)"
      ],
      "execution_count": null,
      "outputs": [
        {
          "output_type": "stream",
          "text": [
            "\n",
            "======== Epoch 1 / 2 ========\n",
            "Training...\n",
            "  Batch   500  of  5,000.    Elapsed: 0:06:52.\n",
            "  Batch 1,000  of  5,000.    Elapsed: 0:13:43.\n",
            "  Batch 1,500  of  5,000.    Elapsed: 0:20:35.\n",
            "  Batch 2,000  of  5,000.    Elapsed: 0:27:27.\n",
            "  Batch 2,500  of  5,000.    Elapsed: 0:34:19.\n",
            "  Batch 3,000  of  5,000.    Elapsed: 0:41:10.\n",
            "  Batch 3,500  of  5,000.    Elapsed: 0:48:02.\n",
            "  Batch 4,000  of  5,000.    Elapsed: 0:54:54.\n",
            "  Batch 4,500  of  5,000.    Elapsed: 1:01:45.\n",
            "\n",
            "  Average training loss: 1.57\n",
            "  Training epcoh took: 1:08:37\n",
            "\n",
            "Running Validation...\n",
            "  Accuracy: 0.55\n",
            "  Validation took: 0:05:08\n",
            "\n",
            "======== Epoch 2 / 2 ========\n",
            "Training...\n",
            "  Batch   500  of  5,000.    Elapsed: 0:06:52.\n",
            "  Batch 1,000  of  5,000.    Elapsed: 0:13:43.\n",
            "  Batch 1,500  of  5,000.    Elapsed: 0:20:35.\n",
            "  Batch 2,000  of  5,000.    Elapsed: 0:27:27.\n",
            "  Batch 2,500  of  5,000.    Elapsed: 0:34:18.\n",
            "  Batch 3,000  of  5,000.    Elapsed: 0:41:10.\n",
            "  Batch 3,500  of  5,000.    Elapsed: 0:48:02.\n",
            "  Batch 4,000  of  5,000.    Elapsed: 0:54:53.\n",
            "  Batch 4,500  of  5,000.    Elapsed: 1:01:45.\n",
            "\n",
            "  Average training loss: 1.57\n",
            "  Training epcoh took: 1:08:42\n",
            "\n",
            "Running Validation...\n",
            "  Accuracy: 0.55\n",
            "  Validation took: 0:05:08\n",
            "\n",
            "Training complete!\n"
          ],
          "name": "stdout"
        }
      ]
    },
    {
      "cell_type": "code",
      "metadata": {
        "id": "egZ0EZT_fGSX"
      },
      "source": [
        "PATH = \"/content/drive/MyDrive/bert_model2.pt\"\n",
        "torch.save(model.state_dict(), PATH)"
      ],
      "execution_count": null,
      "outputs": []
    },
    {
      "cell_type": "code",
      "metadata": {
        "colab": {
          "base_uri": "https://localhost:8080/"
        },
        "id": "OpOu-Rc9duBw",
        "outputId": "554fb66a-7dcf-4f07-9065-40a4b1da1f78"
      },
      "source": [
        "train(train_dataloader3,validation_dataloader3)"
      ],
      "execution_count": 51,
      "outputs": [
        {
          "output_type": "stream",
          "text": [
            "\n",
            "======== Epoch 1 / 2 ========\n",
            "Training...\n",
            "  Batch   500  of  5,000.    Elapsed: 0:06:52.\n",
            "  Batch 1,000  of  5,000.    Elapsed: 0:13:43.\n",
            "  Batch 1,500  of  5,000.    Elapsed: 0:20:35.\n",
            "  Batch 2,000  of  5,000.    Elapsed: 0:27:27.\n",
            "  Batch 2,500  of  5,000.    Elapsed: 0:34:19.\n",
            "  Batch 3,000  of  5,000.    Elapsed: 0:41:10.\n",
            "  Batch 3,500  of  5,000.    Elapsed: 0:48:02.\n",
            "  Batch 4,000  of  5,000.    Elapsed: 0:54:54.\n",
            "  Batch 4,500  of  5,000.    Elapsed: 1:01:46.\n",
            "\n",
            "  Average training loss: 1.46\n",
            "  Training epcoh took: 1:08:38\n",
            "\n",
            "Running Validation...\n",
            "  Accuracy: 0.59\n",
            "  Validation took: 0:05:07\n",
            "\n",
            "======== Epoch 2 / 2 ========\n",
            "Training...\n",
            "  Batch   500  of  5,000.    Elapsed: 0:06:52.\n",
            "  Batch 1,000  of  5,000.    Elapsed: 0:13:44.\n",
            "  Batch 1,500  of  5,000.    Elapsed: 0:20:36.\n",
            "  Batch 2,000  of  5,000.    Elapsed: 0:27:28.\n",
            "  Batch 2,500  of  5,000.    Elapsed: 0:34:20.\n",
            "  Batch 3,000  of  5,000.    Elapsed: 0:41:12.\n",
            "  Batch 3,500  of  5,000.    Elapsed: 0:48:04.\n",
            "  Batch 4,000  of  5,000.    Elapsed: 0:54:56.\n",
            "  Batch 4,500  of  5,000.    Elapsed: 1:01:48.\n",
            "\n",
            "  Average training loss: 1.45\n",
            "  Training epcoh took: 1:08:46\n",
            "\n",
            "Running Validation...\n",
            "  Accuracy: 0.59\n",
            "  Validation took: 0:05:07\n",
            "\n",
            "Training complete!\n"
          ],
          "name": "stdout"
        }
      ]
    },
    {
      "cell_type": "code",
      "metadata": {
        "id": "Y1zOCKCnbHXp"
      },
      "source": [
        "PATH = \"/content/drive/MyDrive/bert_model3.pt\"\n",
        "torch.save(model.state_dict(), PATH)"
      ],
      "execution_count": 52,
      "outputs": []
    },
    {
      "cell_type": "code",
      "metadata": {
        "id": "FTDRzbo_b-vp"
      },
      "source": [
        "test_data = open('/content/test_data',mode='r',encoding='utf-8')"
      ],
      "execution_count": 16,
      "outputs": []
    },
    {
      "cell_type": "code",
      "metadata": {
        "id": "NEVIgRtujXL_"
      },
      "source": [
        "test = pd.DataFrame({\"document\":test_data})\n",
        "test['document'] = test['document'].apply(lambda x : x.replace('\\n',''))\n",
        "test['document'] = test['document'].str.replace(\"[^ㄱ-ㅎㅏ-ㅣ가-힣 ]\",\"\")\n"
      ],
      "execution_count": 17,
      "outputs": []
    },
    {
      "cell_type": "code",
      "metadata": {
        "colab": {
          "base_uri": "https://localhost:8080/",
          "height": 195
        },
        "id": "ptEhwqcGjpYH",
        "outputId": "1663281f-e4df-4da5-9c19-6dd9f981e8f9"
      },
      "source": [
        "test.head()"
      ],
      "execution_count": 18,
      "outputs": [
        {
          "output_type": "execute_result",
          "data": {
            "text/html": [
              "<div>\n",
              "<style scoped>\n",
              "    .dataframe tbody tr th:only-of-type {\n",
              "        vertical-align: middle;\n",
              "    }\n",
              "\n",
              "    .dataframe tbody tr th {\n",
              "        vertical-align: top;\n",
              "    }\n",
              "\n",
              "    .dataframe thead th {\n",
              "        text-align: right;\n",
              "    }\n",
              "</style>\n",
              "<table border=\"1\" class=\"dataframe\">\n",
              "  <thead>\n",
              "    <tr style=\"text-align: right;\">\n",
              "      <th></th>\n",
              "      <th>document</th>\n",
              "    </tr>\n",
              "  </thead>\n",
              "  <tbody>\n",
              "    <tr>\n",
              "      <th>0</th>\n",
              "      <td>진짜 가만히 있어도 눈물이 나옵니다ㅠㅠㅠㅠㅠㅠ</td>\n",
              "    </tr>\n",
              "    <tr>\n",
              "      <th>1</th>\n",
              "      <td>영화를 분석하며 보는 불쌍한 사람이 되지 마세요 아이 키우는 아빠로서 많은 눈물을 ...</td>\n",
              "    </tr>\n",
              "    <tr>\n",
              "      <th>2</th>\n",
              "      <td>정말 다시보고싶은영화   적극추천합니다배우들연기 짱  기대이상입니다</td>\n",
              "    </tr>\n",
              "    <tr>\n",
              "      <th>3</th>\n",
              "      <td>대박 ㅠㅠ웃음에서감동까지 최고의영화입니다</td>\n",
              "    </tr>\n",
              "    <tr>\n",
              "      <th>4</th>\n",
              "      <td>감동있지만 개인적으로 지적장애로 유발된 웃음은 싫어하는터라</td>\n",
              "    </tr>\n",
              "  </tbody>\n",
              "</table>\n",
              "</div>"
            ],
            "text/plain": [
              "                                            document\n",
              "0                          진짜 가만히 있어도 눈물이 나옵니다ㅠㅠㅠㅠㅠㅠ\n",
              "1  영화를 분석하며 보는 불쌍한 사람이 되지 마세요 아이 키우는 아빠로서 많은 눈물을 ...\n",
              "2              정말 다시보고싶은영화   적극추천합니다배우들연기 짱  기대이상입니다\n",
              "3                             대박 ㅠㅠ웃음에서감동까지 최고의영화입니다\n",
              "4                   감동있지만 개인적으로 지적장애로 유발된 웃음은 싫어하는터라"
            ]
          },
          "metadata": {
            "tags": []
          },
          "execution_count": 18
        }
      ]
    },
    {
      "cell_type": "code",
      "metadata": {
        "id": "Fe3atHCVGaIZ"
      },
      "source": [
        "BATCH_SIZE = 16"
      ],
      "execution_count": 20,
      "outputs": []
    },
    {
      "cell_type": "code",
      "metadata": {
        "id": "SoYM7yHEVHmP"
      },
      "source": [
        "sentences = test['document']\n",
        "sentences = [\"[CLS] \" + str(sentence) + \" [SEP]\" for sentence in sentences]\n",
        "tokenized_texts = [tokenizer.tokenize(sent) for sent in sentences]\n",
        "\n",
        "input_ids = [tokenizer.convert_tokens_to_ids(x) for x in tokenized_texts]\n",
        "input_ids = pad_sequences(input_ids, maxlen=MAX_LEN, dtype=\"long\", truncating=\"post\", padding=\"post\")\n",
        "\n",
        "attention_masks = []\n",
        "for seq in input_ids:\n",
        "    seq_mask = [float(i>0) for i in seq]\n",
        "    attention_masks.append(seq_mask)\n",
        "\n",
        "test_inputs = torch.tensor(input_ids)\n",
        "test_masks = torch.tensor(attention_masks)\n",
        "\n",
        "test_data = TensorDataset(test_inputs, test_masks)\n",
        "test_sampler = RandomSampler(test_data)\n",
        "test_dataloader = DataLoader(test_data, sampler=test_sampler, batch_size=BATCH_SIZE,num_workers=3)"
      ],
      "execution_count": 21,
      "outputs": []
    },
    {
      "cell_type": "code",
      "metadata": {
        "id": "aWfyYjrzX4Ws",
        "colab": {
          "base_uri": "https://localhost:8080/"
        },
        "outputId": "26ea9cf7-ee07-4279-c4b8-1167653bbd0a"
      },
      "source": [
        "PATH = \"/content/drive/MyDrive/bert_model2.pt\"\n",
        "model.load_state_dict(torch.load(PATH))\n"
      ],
      "execution_count": 23,
      "outputs": [
        {
          "output_type": "execute_result",
          "data": {
            "text/plain": [
              "<All keys matched successfully>"
            ]
          },
          "metadata": {
            "tags": []
          },
          "execution_count": 23
        }
      ]
    },
    {
      "cell_type": "code",
      "metadata": {
        "id": "9-L9mb5qjLJ0",
        "colab": {
          "base_uri": "https://localhost:8080/"
        },
        "outputId": "ca0657a4-e67d-46ac-eb5f-d8bb24d9b0b1"
      },
      "source": [
        "model.eval()\n",
        "\n",
        "all_predictions = []\n",
        "for batch in tqdm(test_dataloader):\n",
        "    with torch.no_grad():\n",
        "        ids , mask = batch\n",
        "        pred = model(ids.to(device), attention_mask= mask.to(device), labels=None)\n",
        "        pred = pred['logits'].argmax(dim=-1)\n",
        "        all_predictions.extend(pred.cpu().numpy())"
      ],
      "execution_count": 53,
      "outputs": [
        {
          "output_type": "stream",
          "text": [
            "100%|██████████| 25000/25000 [1:43:48<00:00,  4.01it/s]\n"
          ],
          "name": "stderr"
        }
      ]
    },
    {
      "cell_type": "code",
      "metadata": {
        "id": "E0Uwz8fMZ7Uz"
      },
      "source": [
        "for i in range(len(all_predictions)):\n",
        "  all_predictions[i] += 1"
      ],
      "execution_count": 54,
      "outputs": []
    },
    {
      "cell_type": "code",
      "metadata": {
        "id": "FyppsoYNheUC",
        "colab": {
          "base_uri": "https://localhost:8080/"
        },
        "outputId": "a994f8d4-0068-4f99-e780-1c0eb031986e"
      },
      "source": [
        "\n",
        "submission = pd.read_csv('/content/sample_submission.csv')\n",
        "submission['Prediction'] = all_predictions\n",
        "submission.to_csv(('/content/drive/MyDrive/all_predictions.csv'), index=False)\n",
        "\n",
        "print('test inference is done!')"
      ],
      "execution_count": 55,
      "outputs": [
        {
          "output_type": "stream",
          "text": [
            "test inference is done!\n"
          ],
          "name": "stdout"
        }
      ]
    }
  ]
}