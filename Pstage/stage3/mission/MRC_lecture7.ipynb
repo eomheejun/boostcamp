{
 "cells": [
  {
   "cell_type": "code",
   "execution_count": 1,
   "id": "813a3ae0-9116-4851-b384-94e5b179dea2",
   "metadata": {
    "collapsed": true,
    "jupyter": {
     "outputs_hidden": true
    },
    "tags": []
   },
   "outputs": [
    {
     "name": "stdout",
     "output_type": "stream",
     "text": [
      "\u001b[33mWARNING: Value for scheme.headers does not match. Please report this to <https://github.com/pypa/pip/issues/9617>\n",
      "distutils: /opt/conda/include/python3.7m/UNKNOWN\n",
      "sysconfig: /opt/conda/include/python3.7m\u001b[0m\n",
      "\u001b[33mWARNING: Additional context:\n",
      "user = False\n",
      "home = None\n",
      "root = None\n",
      "prefix = None\u001b[0m\n",
      "Requirement already satisfied: datasets in /opt/conda/lib/python3.7/site-packages (1.4.1)\n",
      "Requirement already satisfied: pyarrow>=0.17.1 in /opt/conda/lib/python3.7/site-packages (from datasets) (3.0.0)\n",
      "Requirement already satisfied: huggingface-hub==0.0.2 in /opt/conda/lib/python3.7/site-packages (from datasets) (0.0.2)\n",
      "Requirement already satisfied: xxhash in /opt/conda/lib/python3.7/site-packages (from datasets) (2.0.2)\n",
      "Requirement already satisfied: dill in /opt/conda/lib/python3.7/site-packages (from datasets) (0.3.3)\n",
      "Requirement already satisfied: pandas in /opt/conda/lib/python3.7/site-packages (from datasets) (1.1.4)\n",
      "Requirement already satisfied: requests>=2.19.0 in /opt/conda/lib/python3.7/site-packages (from datasets) (2.23.0)\n",
      "Requirement already satisfied: importlib-metadata in /opt/conda/lib/python3.7/site-packages (from datasets) (4.0.1)\n",
      "Requirement already satisfied: numpy>=1.17 in /opt/conda/lib/python3.7/site-packages (from datasets) (1.18.5)\n",
      "Requirement already satisfied: tqdm<4.50.0,>=4.27 in /opt/conda/lib/python3.7/site-packages (from datasets) (4.41.1)\n",
      "Requirement already satisfied: fsspec in /opt/conda/lib/python3.7/site-packages (from datasets) (2021.4.0)\n",
      "Requirement already satisfied: multiprocess in /opt/conda/lib/python3.7/site-packages (from datasets) (0.70.11.1)\n",
      "Requirement already satisfied: filelock in /opt/conda/lib/python3.7/site-packages (from huggingface-hub==0.0.2->datasets) (3.0.12)\n",
      "Requirement already satisfied: certifi>=2017.4.17 in /opt/conda/lib/python3.7/site-packages (from requests>=2.19.0->datasets) (2020.12.5)\n",
      "Requirement already satisfied: chardet<4,>=3.0.2 in /opt/conda/lib/python3.7/site-packages (from requests>=2.19.0->datasets) (3.0.4)\n",
      "Requirement already satisfied: idna<3,>=2.5 in /opt/conda/lib/python3.7/site-packages (from requests>=2.19.0->datasets) (2.9)\n",
      "Requirement already satisfied: urllib3!=1.25.0,!=1.25.1,<1.26,>=1.21.1 in /opt/conda/lib/python3.7/site-packages (from requests>=2.19.0->datasets) (1.25.8)\n",
      "Requirement already satisfied: zipp>=0.5 in /opt/conda/lib/python3.7/site-packages (from importlib-metadata->datasets) (3.4.1)\n",
      "Requirement already satisfied: typing-extensions>=3.6.4 in /opt/conda/lib/python3.7/site-packages (from importlib-metadata->datasets) (3.7.4.3)\n",
      "Requirement already satisfied: python-dateutil>=2.7.3 in /opt/conda/lib/python3.7/site-packages (from pandas->datasets) (2.8.1)\n",
      "Requirement already satisfied: pytz>=2017.2 in /opt/conda/lib/python3.7/site-packages (from pandas->datasets) (2020.1)\n",
      "Requirement already satisfied: six>=1.5 in /opt/conda/lib/python3.7/site-packages (from python-dateutil>=2.7.3->pandas->datasets) (1.14.0)\n",
      "\u001b[33mWARNING: Value for scheme.headers does not match. Please report this to <https://github.com/pypa/pip/issues/9617>\n",
      "distutils: /opt/conda/include/python3.7m/UNKNOWN\n",
      "sysconfig: /opt/conda/include/python3.7m\u001b[0m\n",
      "\u001b[33mWARNING: Additional context:\n",
      "user = False\n",
      "home = None\n",
      "root = None\n",
      "prefix = None\u001b[0m\n",
      "\u001b[33mWARNING: Running pip as root will break packages and permissions. You should install packages reliably by using venv: https://pip.pypa.io/warnings/venv\u001b[0m\n",
      "\u001b[33mWARNING: Value for scheme.headers does not match. Please report this to <https://github.com/pypa/pip/issues/9617>\n",
      "distutils: /opt/conda/include/python3.7m/UNKNOWN\n",
      "sysconfig: /opt/conda/include/python3.7m\u001b[0m\n",
      "\u001b[33mWARNING: Additional context:\n",
      "user = False\n",
      "home = None\n",
      "root = None\n",
      "prefix = None\u001b[0m\n",
      "Requirement already satisfied: transformers in /opt/conda/lib/python3.7/site-packages (4.4.1)\n",
      "Requirement already satisfied: numpy>=1.17 in /opt/conda/lib/python3.7/site-packages (from transformers) (1.18.5)\n",
      "Requirement already satisfied: packaging in /opt/conda/lib/python3.7/site-packages (from transformers) (20.9)\n",
      "Requirement already satisfied: filelock in /opt/conda/lib/python3.7/site-packages (from transformers) (3.0.12)\n",
      "Requirement already satisfied: tqdm>=4.27 in /opt/conda/lib/python3.7/site-packages (from transformers) (4.41.1)\n",
      "Requirement already satisfied: importlib-metadata in /opt/conda/lib/python3.7/site-packages (from transformers) (4.0.1)\n",
      "Requirement already satisfied: requests in /opt/conda/lib/python3.7/site-packages (from transformers) (2.23.0)\n",
      "Requirement already satisfied: tokenizers<0.11,>=0.10.1 in /opt/conda/lib/python3.7/site-packages (from transformers) (0.10.2)\n",
      "Requirement already satisfied: regex!=2019.12.17 in /opt/conda/lib/python3.7/site-packages (from transformers) (2021.4.4)\n",
      "Requirement already satisfied: sacremoses in /opt/conda/lib/python3.7/site-packages (from transformers) (0.0.45)\n",
      "Requirement already satisfied: zipp>=0.5 in /opt/conda/lib/python3.7/site-packages (from importlib-metadata->transformers) (3.4.1)\n",
      "Requirement already satisfied: typing-extensions>=3.6.4 in /opt/conda/lib/python3.7/site-packages (from importlib-metadata->transformers) (3.7.4.3)\n",
      "Requirement already satisfied: pyparsing>=2.0.2 in /opt/conda/lib/python3.7/site-packages (from packaging->transformers) (2.4.7)\n",
      "Requirement already satisfied: idna<3,>=2.5 in /opt/conda/lib/python3.7/site-packages (from requests->transformers) (2.9)\n",
      "Requirement already satisfied: certifi>=2017.4.17 in /opt/conda/lib/python3.7/site-packages (from requests->transformers) (2020.12.5)\n",
      "Requirement already satisfied: chardet<4,>=3.0.2 in /opt/conda/lib/python3.7/site-packages (from requests->transformers) (3.0.4)\n",
      "Requirement already satisfied: urllib3!=1.25.0,!=1.25.1,<1.26,>=1.21.1 in /opt/conda/lib/python3.7/site-packages (from requests->transformers) (1.25.8)\n",
      "Requirement already satisfied: six in /opt/conda/lib/python3.7/site-packages (from sacremoses->transformers) (1.14.0)\n",
      "Requirement already satisfied: joblib in /opt/conda/lib/python3.7/site-packages (from sacremoses->transformers) (1.0.1)\n",
      "Requirement already satisfied: click in /opt/conda/lib/python3.7/site-packages (from sacremoses->transformers) (7.1.2)\n",
      "\u001b[33mWARNING: Value for scheme.headers does not match. Please report this to <https://github.com/pypa/pip/issues/9617>\n",
      "distutils: /opt/conda/include/python3.7m/UNKNOWN\n",
      "sysconfig: /opt/conda/include/python3.7m\u001b[0m\n",
      "\u001b[33mWARNING: Additional context:\n",
      "user = False\n",
      "home = None\n",
      "root = None\n",
      "prefix = None\u001b[0m\n",
      "\u001b[33mWARNING: Running pip as root will break packages and permissions. You should install packages reliably by using venv: https://pip.pypa.io/warnings/venv\u001b[0m\n",
      "\u001b[33mWARNING: Value for scheme.headers does not match. Please report this to <https://github.com/pypa/pip/issues/9617>\n",
      "distutils: /opt/conda/include/python3.7m/UNKNOWN\n",
      "sysconfig: /opt/conda/include/python3.7m\u001b[0m\n",
      "\u001b[33mWARNING: Additional context:\n",
      "user = False\n",
      "home = None\n",
      "root = None\n",
      "prefix = None\u001b[0m\n",
      "Requirement already satisfied: tqdm in /opt/conda/lib/python3.7/site-packages (4.41.1)\n",
      "\u001b[33mWARNING: Value for scheme.headers does not match. Please report this to <https://github.com/pypa/pip/issues/9617>\n",
      "distutils: /opt/conda/include/python3.7m/UNKNOWN\n",
      "sysconfig: /opt/conda/include/python3.7m\u001b[0m\n",
      "\u001b[33mWARNING: Additional context:\n",
      "user = False\n",
      "home = None\n",
      "root = None\n",
      "prefix = None\u001b[0m\n",
      "\u001b[33mWARNING: Running pip as root will break packages and permissions. You should install packages reliably by using venv: https://pip.pypa.io/warnings/venv\u001b[0m\n"
     ]
    }
   ],
   "source": [
    "!pip install datasets\n",
    "!pip install transformers\n",
    "!pip install tqdm "
   ]
  },
  {
   "cell_type": "code",
   "execution_count": 3,
   "id": "e97e136f-2c64-4fdd-8fd8-437a4a442606",
   "metadata": {},
   "outputs": [],
   "source": [
    "import random\n",
    "import numpy as np\n",
    "from pprint import pprint\n",
    "\n",
    "from datasets import load_dataset, load_metric\n",
    "from sklearn.feature_extraction.text import TfidfVectorizer"
   ]
  },
  {
   "cell_type": "code",
   "execution_count": 4,
   "id": "bbc13c43-23c2-4d58-ae9f-16313dc7dba5",
   "metadata": {},
   "outputs": [
    {
     "name": "stderr",
     "output_type": "stream",
     "text": [
      "Reusing dataset squad_kor_v1 (/opt/ml/.cache/huggingface/datasets/squad_kor_v1/squad_kor_v1/1.0.0/31982418accc53b059af090befa81e68880acc667ca5405d30ce6fa7910950a7)\n"
     ]
    }
   ],
   "source": [
    "dataset = load_dataset('squad_kor_v1')"
   ]
  },
  {
   "cell_type": "code",
   "execution_count": 5,
   "id": "7119c089-50ef-4bc7-9f43-943eab197952",
   "metadata": {},
   "outputs": [],
   "source": [
    "corpus = list(set([example['context'] for example in dataset['train']]))\n",
    "corpus.extend(list(set([example['context'] for example in dataset['validation']])))\n",
    "\n",
    "tokenizer_func = lambda x: x.split(' ')\n",
    "vectorizer = TfidfVectorizer(tokenizer=tokenizer_func, ngram_range=(1,2))\n",
    "sp_matrix = vectorizer.fit_transform(corpus)"
   ]
  },
  {
   "cell_type": "code",
   "execution_count": 7,
   "id": "d52eff55-e127-43f0-96fc-f22fdb516edf",
   "metadata": {},
   "outputs": [],
   "source": [
    "def get_relevant_doc(vectorizer, query, k=1):\n",
    "    \"참고 : vocab에 없는 이상한 단어로 query하는 경우 assertion발생 예)뙣뙇?\"\n",
    "    \n",
    "    query_vec = vectorizer.transform([query])\n",
    "    assert np.sum(query_vec) !=0\n",
    "    result = query_vec * sp_matrix.T\n",
    "    sorted_result = np.argsort(-result.data)\n",
    "    doc_scores = result.data[sorted_result]\n",
    "    doc_ids = result.indices[sorted_result]\n",
    "    return doc_scores[:k],doc_ids[:k]"
   ]
  },
  {
   "cell_type": "code",
   "execution_count": 8,
   "id": "1ec576a4-350d-4b48-97a5-4aff6126ccb5",
   "metadata": {},
   "outputs": [
    {
     "name": "stdout",
     "output_type": "stream",
     "text": [
      "******************** result ********************\n",
      "[Search query]\n",
      " 미국의 대통령은 누구인가? \n",
      "\n",
      "[Relevant Doc Id(Top 1)]:3642\n",
      "영국과 미국의 관계는 대략 400년 정도 소급된다. 1607년 영국은 \"제임스타운\"이라고 명명된 북미 대륙 최초의 상주 식민지를 세우기 시작하였고, 오늘날 영국과 미국은 가까운 군사적 동맹체다. 양국은 문화적으로 유사할 뿐만 아니라 군사적 연구와 정보 기구를 공유한다. 영국은 미국으로부터 토마호크 미사일이나 트라이던트 미사일과 같은 무기를 구입했고 미국은 영국으로부터 해리어(Harrier)와 같은 장비를 구매했다. 또한 영국에 대규모 군대를 주둔하고 있다. 최근 영국의 총리와 미국의 대통령은 매우 친밀한 모습을 보여주었다. 가령 토니 블레어와 빌 클린턴 및 이후 조지 W. 부시 대통령 간의 관계, 1980년대 마거릿 대처와 로널드 레이건 등의 관계가 그러하다. 현재 영국의 정책은 혈맹 미국과의 관계는 영국의 \"가장 중요한 2자간 관계\"임을 표명한다.\n"
     ]
    }
   ],
   "source": [
    "query = \"미국의 대통령은 누구인가?\"\n",
    "\n",
    "_,doc_id = get_relevant_doc(vectorizer, query,k=1)\n",
    "print(\"{} {} {}\".format('*'*20, 'result','*'*20))\n",
    "print(\"[Search query]\\n\",query,'\\n')\n",
    "print(f\"[Relevant Doc Id(Top 1)]:{doc_id.item()}\")\n",
    "print(corpus[doc_id.item()])"
   ]
  },
  {
   "cell_type": "code",
   "execution_count": 13,
   "id": "286a8d55-3b6f-48b1-bd0f-a7fcb54fd988",
   "metadata": {},
   "outputs": [],
   "source": [
    "import torch\n",
    "from transformers import (\n",
    "    AutoConfig,\n",
    "    AutoModelForQuestionAnswering,\n",
    "    AutoTokenizer\n",
    ")"
   ]
  },
  {
   "cell_type": "code",
   "execution_count": 14,
   "id": "3d4d89fb-8195-4c65-9e23-d71bdb4c166e",
   "metadata": {
    "collapsed": true,
    "jupyter": {
     "outputs_hidden": true
    },
    "tags": []
   },
   "outputs": [
    {
     "data": {
      "application/vnd.jupyter.widget-view+json": {
       "model_id": "5b996fe52347435ea9785ee0a087767c",
       "version_major": 2,
       "version_minor": 0
      },
      "text/plain": [
       "HBox(children=(FloatProgress(value=0.0, description='Downloading', max=803.0, style=ProgressStyle(description_…"
      ]
     },
     "metadata": {},
     "output_type": "display_data"
    },
    {
     "name": "stdout",
     "output_type": "stream",
     "text": [
      "\n"
     ]
    },
    {
     "data": {
      "application/vnd.jupyter.widget-view+json": {
       "model_id": "53064fff305d446aa851ccb2c32d5f5d",
       "version_major": 2,
       "version_minor": 0
      },
      "text/plain": [
       "HBox(children=(FloatProgress(value=0.0, description='Downloading', max=709143679.0, style=ProgressStyle(descri…"
      ]
     },
     "metadata": {},
     "output_type": "display_data"
    },
    {
     "name": "stdout",
     "output_type": "stream",
     "text": [
      "\n"
     ]
    },
    {
     "data": {
      "application/vnd.jupyter.widget-view+json": {
       "model_id": "bfabadad835c4845911899a5b8319dac",
       "version_major": 2,
       "version_minor": 0
      },
      "text/plain": [
       "HBox(children=(FloatProgress(value=0.0, description='Downloading', max=995526.0, style=ProgressStyle(descripti…"
      ]
     },
     "metadata": {},
     "output_type": "display_data"
    },
    {
     "name": "stdout",
     "output_type": "stream",
     "text": [
      "\n"
     ]
    },
    {
     "data": {
      "application/vnd.jupyter.widget-view+json": {
       "model_id": "dca07d5dd0744106916dd5a4730fb4d4",
       "version_major": 2,
       "version_minor": 0
      },
      "text/plain": [
       "HBox(children=(FloatProgress(value=0.0, description='Downloading', max=112.0, style=ProgressStyle(description_…"
      ]
     },
     "metadata": {},
     "output_type": "display_data"
    },
    {
     "name": "stdout",
     "output_type": "stream",
     "text": [
      "\n"
     ]
    },
    {
     "data": {
      "application/vnd.jupyter.widget-view+json": {
       "model_id": "636d24a79f6545bfbb5c8536b6e23425",
       "version_major": 2,
       "version_minor": 0
      },
      "text/plain": [
       "HBox(children=(FloatProgress(value=0.0, description='Downloading', max=367.0, style=ProgressStyle(description_…"
      ]
     },
     "metadata": {},
     "output_type": "display_data"
    },
    {
     "name": "stdout",
     "output_type": "stream",
     "text": [
      "\n"
     ]
    }
   ],
   "source": [
    "model_name = \"sangrimlee/bert-base-multilingual-cased-korquad\"\n",
    "\n",
    "mrc_model = AutoModelForQuestionAnswering.from_pretrained(model_name)\n",
    "tokenizer = AutoTokenizer.from_pretrained(\n",
    "    model_name,\n",
    "    use_fast=True,\n",
    ")\n",
    "mrc_model = mrc_model.eval()"
   ]
  },
  {
   "cell_type": "code",
   "execution_count": 19,
   "id": "fceaa395-d14f-4fc4-a21c-013f0ece39f4",
   "metadata": {},
   "outputs": [],
   "source": [
    "def get_answer_from_context(context,question,model,tokenizer):\n",
    "    encoded_dict = tokenizer.encode_plus(\n",
    "        question,\n",
    "        context,\n",
    "        truncation=True,\n",
    "        padding=\"max_length\",\n",
    "        max_length=512,\n",
    "    )\n",
    "    non_padded_ids = encoded_dict[\"input_ids\"][:encoded_dict[\"input_ids\"].index(tokenizer.pad_token_id)]\n",
    "    full_text = tokenizer.decode(non_padded_ids)\n",
    "    inputs = {\n",
    "        'input_ids':torch.tensor([encoded_dict['input_ids']],dtype=torch.long),\n",
    "        'attention_mask':torch.tensor([encoded_dict['attention_mask']],dtype=torch.long),\n",
    "        'token_type_ids':torch.tensor([encoded_dict['token_type_ids']],dtype=torch.long),\n",
    "    }\n",
    "    outputs=model(**inputs)\n",
    "    start, end = torch.max(outputs.start_logits,axis=1).indices.item(),torch.max(outputs.end_logits,axis=1).indices.item()\n",
    "    answer=tokenizer.decode(encoded_dict['input_ids'][start:end+1])\n",
    "    return answer"
   ]
  },
  {
   "cell_type": "code",
   "execution_count": 20,
   "id": "35327371-2b47-465d-bc48-e65add54c1ff",
   "metadata": {},
   "outputs": [],
   "source": [
    "context = corpus[doc_id.item()]"
   ]
  },
  {
   "cell_type": "code",
   "execution_count": 21,
   "id": "af6405ba-ed14-4983-88d7-91d57d1dd9c2",
   "metadata": {},
   "outputs": [
    {
     "data": {
      "text/plain": [
       "'영국과 미국의 관계는 대략 400년 정도 소급된다. 1607년 영국은 \"제임스타운\"이라고 명명된 북미 대륙 최초의 상주 식민지를 세우기 시작하였고, 오늘날 영국과 미국은 가까운 군사적 동맹체다. 양국은 문화적으로 유사할 뿐만 아니라 군사적 연구와 정보 기구를 공유한다. 영국은 미국으로부터 토마호크 미사일이나 트라이던트 미사일과 같은 무기를 구입했고 미국은 영국으로부터 해리어(Harrier)와 같은 장비를 구매했다. 또한 영국에 대규모 군대를 주둔하고 있다. 최근 영국의 총리와 미국의 대통령은 매우 친밀한 모습을 보여주었다. 가령 토니 블레어와 빌 클린턴 및 이후 조지 W. 부시 대통령 간의 관계, 1980년대 마거릿 대처와 로널드 레이건 등의 관계가 그러하다. 현재 영국의 정책은 혈맹 미국과의 관계는 영국의 \"가장 중요한 2자간 관계\"임을 표명한다.'"
      ]
     },
     "execution_count": 21,
     "metadata": {},
     "output_type": "execute_result"
    }
   ],
   "source": [
    "context"
   ]
  },
  {
   "cell_type": "code",
   "execution_count": 22,
   "id": "287b5030-e74c-41c8-b4f4-38f20212b740",
   "metadata": {},
   "outputs": [
    {
     "name": "stdout",
     "output_type": "stream",
     "text": [
      "조지 W. 부시\n"
     ]
    }
   ],
   "source": [
    "answer = get_answer_from_context(context,query,mrc_model,tokenizer)\n",
    "print(answer)"
   ]
  },
  {
   "cell_type": "code",
   "execution_count": 24,
   "id": "9d80b825-5de0-43b4-a3db-669be82bf86c",
   "metadata": {},
   "outputs": [],
   "source": [
    "def open_domain_qa(query,corpus,vectorizer,model,tokenizer,k=1):\n",
    "    \n",
    "    _,doc_id = get_relevant_doc(vectorizer, query,k=1)\n",
    "    context = corpus[doc_id.item()]\n",
    "    \n",
    "    \n",
    "    print(\"{} {} {}\".format('*'*20, 'result','*'*20))\n",
    "    print(\"[Search query]\\n\",query,'\\n')\n",
    "    print(f\"[Relevant Doc Id(Top 1)]:{doc_id.item()}\")\n",
    "    pprint(corpus[doc_id.item()],compact=True)\n",
    "    print(f\"[Answer prediction from the model]:{answer}\")"
   ]
  },
  {
   "cell_type": "code",
   "execution_count": 25,
   "id": "d03c30f8-db0b-444e-8059-2b50f68ffd77",
   "metadata": {},
   "outputs": [
    {
     "name": "stdin",
     "output_type": "stream",
     "text": [
      "Enter any question: 미국의 대통령은 누구인가? \n"
     ]
    },
    {
     "name": "stdout",
     "output_type": "stream",
     "text": [
      "******************** result ********************\n",
      "[Search query]\n",
      " 미국의 대통령은 누구인가?  \n",
      "\n",
      "[Relevant Doc Id(Top 1)]:3642\n",
      "('영국과 미국의 관계는 대략 400년 정도 소급된다. 1607년 영국은 \"제임스타운\"이라고 명명된 북미 대륙 최초의 상주 식민지를 세우기 '\n",
      " '시작하였고, 오늘날 영국과 미국은 가까운 군사적 동맹체다. 양국은 문화적으로 유사할 뿐만 아니라 군사적 연구와 정보 기구를 공유한다. '\n",
      " '영국은 미국으로부터 토마호크 미사일이나 트라이던트 미사일과 같은 무기를 구입했고 미국은 영국으로부터 해리어(Harrier)와 같은 장비를 '\n",
      " '구매했다. 또한 영국에 대규모 군대를 주둔하고 있다. 최근 영국의 총리와 미국의 대통령은 매우 친밀한 모습을 보여주었다. 가령 토니 '\n",
      " '블레어와 빌 클린턴 및 이후 조지 W. 부시 대통령 간의 관계, 1980년대 마거릿 대처와 로널드 레이건 등의 관계가 그러하다. 현재 '\n",
      " '영국의 정책은 혈맹 미국과의 관계는 영국의 \"가장 중요한 2자간 관계\"임을 표명한다.')\n",
      "[Answer prediction from the model]:조지 W. 부시\n"
     ]
    }
   ],
   "source": [
    "query = input(\"Enter any question:\")\n",
    "open_domain_qa(query,corpus,vectorizer,mrc_model,tokenizer,k=1)"
   ]
  },
  {
   "cell_type": "code",
   "execution_count": 26,
   "id": "89adcb68-acde-4f16-b852-584eb67c4967",
   "metadata": {},
   "outputs": [
    {
     "name": "stdin",
     "output_type": "stream",
     "text": [
      "Enter any question: 미국의 대통령은 누구인가?\n"
     ]
    },
    {
     "name": "stdout",
     "output_type": "stream",
     "text": [
      "******************** result ********************\n",
      "[Search query]\n",
      " 미국의 대통령은 누구인가? \n",
      "\n",
      "[Relevant Doc Id(Top 1)]:3642\n",
      "('영국과 미국의 관계는 대략 400년 정도 소급된다. 1607년 영국은 \"제임스타운\"이라고 명명된 북미 대륙 최초의 상주 식민지를 세우기 '\n",
      " '시작하였고, 오늘날 영국과 미국은 가까운 군사적 동맹체다. 양국은 문화적으로 유사할 뿐만 아니라 군사적 연구와 정보 기구를 공유한다. '\n",
      " '영국은 미국으로부터 토마호크 미사일이나 트라이던트 미사일과 같은 무기를 구입했고 미국은 영국으로부터 해리어(Harrier)와 같은 장비를 '\n",
      " '구매했다. 또한 영국에 대규모 군대를 주둔하고 있다. 최근 영국의 총리와 미국의 대통령은 매우 친밀한 모습을 보여주었다. 가령 토니 '\n",
      " '블레어와 빌 클린턴 및 이후 조지 W. 부시 대통령 간의 관계, 1980년대 마거릿 대처와 로널드 레이건 등의 관계가 그러하다. 현재 '\n",
      " '영국의 정책은 혈맹 미국과의 관계는 영국의 \"가장 중요한 2자간 관계\"임을 표명한다.')\n",
      "[Answer prediction from the model]:조지 W. 부시\n"
     ]
    },
    {
     "name": "stdin",
     "output_type": "stream",
     "text": [
      "Enter any question: 그만\n"
     ]
    },
    {
     "name": "stdout",
     "output_type": "stream",
     "text": [
      "******************** result ********************\n",
      "[Search query]\n",
      " 그만 \n",
      "\n",
      "[Relevant Doc Id(Top 1)]:1048\n",
      "('폭스는 세계적인 섹스 심볼로 불리고 있는데, 《엠파이어》와의 인터뷰에서 \"올바른 선택을 하고 열심히 공부해 스스로를 개발하고 싶다\"는 '\n",
      " '메건 폭스는 \"남성잡지의 표지 모델도 그만 하고 싶다. 이제는 작품성 있는 영화로 인정받겠다\"라고 말했고, 이어 \"시간을 섹시스타로 살 '\n",
      " '수는 없다\"고 말하며 섹스 심볼이라는 이미지에 대해 반감을 드러냈다. 또한 폭스는 섹시한 이미지로 남자 팬들을 자극할 수는 있지만, '\n",
      " '여성들에게는 좋지 않은 인상으로 \"여성들은 내가 멍청하거나 아니면 그저 외모지상주의자라는 선입견을 갖고 있다. 남성들에게 어필하는 방법은 '\n",
      " '잘 알고 있지만 여성들이 무조건 나를 싫어하는 이유는 잘 모르겠다\"라고 속내를 밝혔다.')\n",
      "[Answer prediction from the model]:조지 W. 부시\n"
     ]
    }
   ],
   "source": [
    "query = None\n",
    "while query != \"그만\":\n",
    "    query = input(\"Enter any question:\")\n",
    "    open_domain_qa(query,corpus,vectorizer,mrc_model,tokenizer,k=1)"
   ]
  },
  {
   "cell_type": "code",
   "execution_count": null,
   "id": "3e6b2915-1909-48b4-a328-e01ec3ef0caa",
   "metadata": {},
   "outputs": [],
   "source": []
  }
 ],
 "metadata": {
  "kernelspec": {
   "display_name": "Python 3",
   "language": "python",
   "name": "python3"
  },
  "language_info": {
   "codemirror_mode": {
    "name": "ipython",
    "version": 3
   },
   "file_extension": ".py",
   "mimetype": "text/x-python",
   "name": "python",
   "nbconvert_exporter": "python",
   "pygments_lexer": "ipython3",
   "version": "3.7.7"
  }
 },
 "nbformat": 4,
 "nbformat_minor": 5
}
